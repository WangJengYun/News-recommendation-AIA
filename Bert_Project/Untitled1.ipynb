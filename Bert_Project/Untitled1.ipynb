{
 "cells": [
  {
   "cell_type": "code",
   "execution_count": 6,
   "metadata": {},
   "outputs": [],
   "source": [
    "from bert_serving.client import BertClient"
   ]
  },
  {
   "cell_type": "code",
   "execution_count": null,
   "metadata": {},
   "outputs": [
    {
     "name": "stderr",
     "output_type": "stream",
     "text": [
      "/opt/conda/lib/python3.6/site-packages/h5py/__init__.py:36: FutureWarning: Conversion of the second argument of issubdtype from `float` to `np.floating` is deprecated. In future, it will be treated as `np.float64 == np.dtype(float).type`.\n",
      "  from ._conv import register_converters as _register_converters\n"
     ]
    }
   ],
   "source": [
    "from data_preparation_for_feature_extraction import InputExample, loading_pickle_file\n",
    "all_news_path = '../../data_processed/news/all_news.p'\n",
    "news_dict = loading_pickle_file(all_news_path)\n",
    "all_title_vec = []\n",
    "bc = BertClient()\n",
    "for i in range(0,len(news_dict)):\n",
    "    vec_i = bc.encode([\"news_dict[i]['title']\"])\n",
    "    all_title_vec.append(vec_i)"
   ]
  },
  {
   "cell_type": "code",
   "execution_count": null,
   "metadata": {},
   "outputs": [],
   "source": [
    "import numpy as np\n",
    "def cosine(a,b):\n",
    "    return a.dot(b)/(np.linalg.norm(a)*np.linalg.norm(b))\n",
    "emb=np.array(bc.encode(['無懼入職場', '最暢銷科技產品']))\n",
    "\n",
    "print(['a', 'b'],\":\",cosine(emb[0],emb[1]))"
   ]
  },
  {
   "cell_type": "code",
   "execution_count": 24,
   "metadata": {},
   "outputs": [
    {
     "data": {
      "text/plain": [
       "0.8666133"
      ]
     },
     "execution_count": 24,
     "metadata": {},
     "output_type": "execute_result"
    }
   ],
   "source": [
    "a=bc.encode(['iPhone為2017最暢銷科技產品；Echo、Switch擠進前5大'])\n",
    "emb=np.array(bc.encode(['iPhone為2017最暢銷科技產品；Echo、Switch擠進前5大','無懼人口減少！女性投入職場 日本就業人口數料創新高 提振日本就業人口數有望創新高的原動力來自於女性和高齡人口。2017年11月份日本15-64歲女性的勞動參與率達68.2%、較5年前相比揚升6.7個百分點，創歷史新高水準；65歲以上高齡人口的勞動參與率(男女合計值)為22.9%、創1998年以來新高水準']))\n",
    "cosine(emb[0],emb[1])"
   ]
  },
  {
   "cell_type": "code",
   "execution_count": 34,
   "metadata": {},
   "outputs": [
    {
     "name": "stdout",
     "output_type": "stream",
     "text": [
      "0 4\n",
      "1 4\n",
      "2 4\n"
     ]
    },
    {
     "data": {
      "text/plain": [
       "[2.0, 2.0, 2.0]"
      ]
     },
     "execution_count": 34,
     "metadata": {},
     "output_type": "execute_result"
    }
   ],
   "source": [
    "a = [1,2,3]\n",
    "b = [3,2,1]\n",
    "for i in range(len(a)):\n",
    "    a[i] = a[i]+b[i]\n",
    "for id,item in enumerate(a):\n",
    "    a[id] = item/2\n",
    "    print(id,item)\n",
    "a"
   ]
  },
  {
   "cell_type": "code",
   "execution_count": 54,
   "metadata": {},
   "outputs": [],
   "source": [
    "import numpy as np\n",
    "a = np.zeros([2,3])\n",
    "b = np.array([[1,2,3],[4,5,6]])\n",
    "# for i in range(5):\n",
    "#     print(1,i)\n",
    "c = []"
   ]
  },
  {
   "cell_type": "code",
   "execution_count": 59,
   "metadata": {},
   "outputs": [],
   "source": [
    "a = np.array([1.11111111,2.69999999,3])"
   ]
  },
  {
   "cell_type": "code",
   "execution_count": 80,
   "metadata": {},
   "outputs": [
    {
     "data": {
      "text/plain": [
       "4"
      ]
     },
     "execution_count": 80,
     "metadata": {},
     "output_type": "execute_result"
    }
   ],
   "source": [
    "extract_layers = ['-1,-2,-3,-4'] \n",
    "len(extract_layers[0].split(','))"
   ]
  },
  {
   "cell_type": "code",
   "execution_count": 79,
   "metadata": {},
   "outputs": [
    {
     "data": {
      "text/plain": [
       "['1', '2', '3', '4']"
      ]
     },
     "execution_count": 79,
     "metadata": {},
     "output_type": "execute_result"
    }
   ],
   "source": [
    "a = '1,2,3,4'\n",
    "a.split(',')"
   ]
  },
  {
   "cell_type": "code",
   "execution_count": null,
   "metadata": {},
   "outputs": [],
   "source": [
    "\n"
   ]
  }
 ],
 "metadata": {
  "kernelspec": {
   "display_name": "Python 3",
   "language": "python",
   "name": "python3"
  },
  "language_info": {
   "codemirror_mode": {
    "name": "ipython",
    "version": 3
   },
   "file_extension": ".py",
   "mimetype": "text/x-python",
   "name": "python",
   "nbconvert_exporter": "python",
   "pygments_lexer": "ipython3",
   "version": "3.6.6"
  }
 },
 "nbformat": 4,
 "nbformat_minor": 2
}
